{
 "cells": [
  {
   "cell_type": "code",
   "execution_count": 3,
   "metadata": {},
   "outputs": [],
   "source": [
    "import pandas as pd\n",
    "import numpy as np\n",
    "from sklearn.model_selection import train_test_split\n",
    "from sklearn.preprocessing import StandardScaler\n",
    "from tensorflow.keras.models import Sequential\n",
    "from tensorflow.keras.layers import Dense\n",
    "from tensorflow.keras.optimizers import Adam\n",
    "import tensorflow as tf\n",
    "from sklearn.metrics import mean_squared_error, r2_score,accuracy_score\n",
    "import pickle"
   ]
  },
  {
   "cell_type": "code",
   "execution_count": 4,
   "metadata": {},
   "outputs": [],
   "source": [
    "df = pd.read_csv(\"../Dataset/rainfall_data_improved.csv\")"
   ]
  },
  {
   "cell_type": "code",
   "execution_count": 5,
   "metadata": {},
   "outputs": [],
   "source": [
    "df.dropna(inplace=True)\n",
    "# แทนค่าผลลัพธ์ที่หายไปด้วยค่าเฉลี่ย"
   ]
  },
  {
   "cell_type": "code",
   "execution_count": 6,
   "metadata": {},
   "outputs": [
    {
     "data": {
      "text/html": [
       "<div>\n",
       "<style scoped>\n",
       "    .dataframe tbody tr th:only-of-type {\n",
       "        vertical-align: middle;\n",
       "    }\n",
       "\n",
       "    .dataframe tbody tr th {\n",
       "        vertical-align: top;\n",
       "    }\n",
       "\n",
       "    .dataframe thead th {\n",
       "        text-align: right;\n",
       "    }\n",
       "</style>\n",
       "<table border=\"1\" class=\"dataframe\">\n",
       "  <thead>\n",
       "    <tr style=\"text-align: right;\">\n",
       "      <th></th>\n",
       "      <th>MaxTemperature</th>\n",
       "      <th>MinTemperature</th>\n",
       "      <th>Humidity9AM</th>\n",
       "      <th>Humidity3PM</th>\n",
       "      <th>WindSpeed</th>\n",
       "      <th>RainfallYesterday</th>\n",
       "      <th>Pressure</th>\n",
       "      <th>RainToday</th>\n",
       "    </tr>\n",
       "  </thead>\n",
       "  <tbody>\n",
       "    <tr>\n",
       "      <th>0</th>\n",
       "      <td>20.597317</td>\n",
       "      <td>11.089357</td>\n",
       "      <td>85.821319</td>\n",
       "      <td>76.196604</td>\n",
       "      <td>14.083860</td>\n",
       "      <td>19.361141</td>\n",
       "      <td>1020.948681</td>\n",
       "      <td>1.0</td>\n",
       "    </tr>\n",
       "    <tr>\n",
       "      <th>2</th>\n",
       "      <td>20.133087</td>\n",
       "      <td>8.682992</td>\n",
       "      <td>76.180659</td>\n",
       "      <td>66.741401</td>\n",
       "      <td>8.777886</td>\n",
       "      <td>0.208261</td>\n",
       "      <td>998.754806</td>\n",
       "      <td>0.0</td>\n",
       "    </tr>\n",
       "    <tr>\n",
       "      <th>3</th>\n",
       "      <td>39.213209</td>\n",
       "      <td>22.348052</td>\n",
       "      <td>94.988153</td>\n",
       "      <td>101.429979</td>\n",
       "      <td>4.462908</td>\n",
       "      <td>17.991038</td>\n",
       "      <td>987.500147</td>\n",
       "      <td>1.0</td>\n",
       "    </tr>\n",
       "    <tr>\n",
       "      <th>5</th>\n",
       "      <td>38.032665</td>\n",
       "      <td>8.405776</td>\n",
       "      <td>43.639314</td>\n",
       "      <td>36.902237</td>\n",
       "      <td>14.095961</td>\n",
       "      <td>4.853823</td>\n",
       "      <td>1012.745260</td>\n",
       "      <td>0.0</td>\n",
       "    </tr>\n",
       "    <tr>\n",
       "      <th>6</th>\n",
       "      <td>29.457849</td>\n",
       "      <td>18.136560</td>\n",
       "      <td>55.215601</td>\n",
       "      <td>62.319476</td>\n",
       "      <td>15.843565</td>\n",
       "      <td>3.277172</td>\n",
       "      <td>998.942999</td>\n",
       "      <td>0.0</td>\n",
       "    </tr>\n",
       "    <tr>\n",
       "      <th>...</th>\n",
       "      <td>...</td>\n",
       "      <td>...</td>\n",
       "      <td>...</td>\n",
       "      <td>...</td>\n",
       "      <td>...</td>\n",
       "      <td>...</td>\n",
       "      <td>...</td>\n",
       "      <td>...</td>\n",
       "    </tr>\n",
       "    <tr>\n",
       "      <th>991</th>\n",
       "      <td>28.145552</td>\n",
       "      <td>10.852693</td>\n",
       "      <td>62.751350</td>\n",
       "      <td>62.537229</td>\n",
       "      <td>23.207953</td>\n",
       "      <td>11.866637</td>\n",
       "      <td>1004.453357</td>\n",
       "      <td>0.0</td>\n",
       "    </tr>\n",
       "    <tr>\n",
       "      <th>994</th>\n",
       "      <td>33.142819</td>\n",
       "      <td>6.376782</td>\n",
       "      <td>98.522403</td>\n",
       "      <td>99.367227</td>\n",
       "      <td>1.597643</td>\n",
       "      <td>11.670058</td>\n",
       "      <td>1001.697259</td>\n",
       "      <td>1.0</td>\n",
       "    </tr>\n",
       "    <tr>\n",
       "      <th>995</th>\n",
       "      <td>19.944133</td>\n",
       "      <td>14.206373</td>\n",
       "      <td>41.092292</td>\n",
       "      <td>32.983954</td>\n",
       "      <td>4.643538</td>\n",
       "      <td>5.064469</td>\n",
       "      <td>1001.770813</td>\n",
       "      <td>0.0</td>\n",
       "    </tr>\n",
       "    <tr>\n",
       "      <th>996</th>\n",
       "      <td>19.443702</td>\n",
       "      <td>11.857934</td>\n",
       "      <td>90.993453</td>\n",
       "      <td>98.437775</td>\n",
       "      <td>29.148128</td>\n",
       "      <td>12.847864</td>\n",
       "      <td>1022.026212</td>\n",
       "      <td>1.0</td>\n",
       "    </tr>\n",
       "    <tr>\n",
       "      <th>997</th>\n",
       "      <td>25.639345</td>\n",
       "      <td>15.695074</td>\n",
       "      <td>70.250600</td>\n",
       "      <td>70.032875</td>\n",
       "      <td>8.604005</td>\n",
       "      <td>12.276860</td>\n",
       "      <td>1003.179823</td>\n",
       "      <td>0.0</td>\n",
       "    </tr>\n",
       "  </tbody>\n",
       "</table>\n",
       "<p>667 rows × 8 columns</p>\n",
       "</div>"
      ],
      "text/plain": [
       "     MaxTemperature  MinTemperature  Humidity9AM  Humidity3PM  WindSpeed  \\\n",
       "0         20.597317       11.089357    85.821319    76.196604  14.083860   \n",
       "2         20.133087        8.682992    76.180659    66.741401   8.777886   \n",
       "3         39.213209       22.348052    94.988153   101.429979   4.462908   \n",
       "5         38.032665        8.405776    43.639314    36.902237  14.095961   \n",
       "6         29.457849       18.136560    55.215601    62.319476  15.843565   \n",
       "..              ...             ...          ...          ...        ...   \n",
       "991       28.145552       10.852693    62.751350    62.537229  23.207953   \n",
       "994       33.142819        6.376782    98.522403    99.367227   1.597643   \n",
       "995       19.944133       14.206373    41.092292    32.983954   4.643538   \n",
       "996       19.443702       11.857934    90.993453    98.437775  29.148128   \n",
       "997       25.639345       15.695074    70.250600    70.032875   8.604005   \n",
       "\n",
       "     RainfallYesterday     Pressure  RainToday  \n",
       "0            19.361141  1020.948681        1.0  \n",
       "2             0.208261   998.754806        0.0  \n",
       "3            17.991038   987.500147        1.0  \n",
       "5             4.853823  1012.745260        0.0  \n",
       "6             3.277172   998.942999        0.0  \n",
       "..                 ...          ...        ...  \n",
       "991          11.866637  1004.453357        0.0  \n",
       "994          11.670058  1001.697259        1.0  \n",
       "995           5.064469  1001.770813        0.0  \n",
       "996          12.847864  1022.026212        1.0  \n",
       "997          12.276860  1003.179823        0.0  \n",
       "\n",
       "[667 rows x 8 columns]"
      ]
     },
     "execution_count": 6,
     "metadata": {},
     "output_type": "execute_result"
    }
   ],
   "source": [
    "df"
   ]
  },
  {
   "cell_type": "code",
   "execution_count": 7,
   "metadata": {},
   "outputs": [],
   "source": [
    "# แยกฟีเจอร์และ target\n",
    "X = df.drop('RainToday', axis=1).values  # ฟีเจอร์ทั้งหมด (ไม่รวม RainToday)\n",
    "y = df['RainToday'].values  # Target: RainToday (ค่าฝน)\n"
   ]
  },
  {
   "cell_type": "code",
   "execution_count": 8,
   "metadata": {},
   "outputs": [],
   "source": [
    "scaler = StandardScaler()\n",
    "X_scaled = scaler.fit_transform(X)"
   ]
  },
  {
   "cell_type": "code",
   "execution_count": 9,
   "metadata": {},
   "outputs": [],
   "source": [
    "# แบ่งข้อมูลเป็น train และ test\n",
    "X_train, X_test, y_train, y_test = train_test_split(X_scaled, y, test_size=0.2, random_state=42)"
   ]
  },
  {
   "cell_type": "code",
   "execution_count": 10,
   "metadata": {},
   "outputs": [],
   "source": [
    "# สร้างโมเดล MLP\n",
    "model = Sequential()"
   ]
  },
  {
   "cell_type": "code",
   "execution_count": 11,
   "metadata": {},
   "outputs": [
    {
     "name": "stderr",
     "output_type": "stream",
     "text": [
      "d:\\GITHUB\\IS_WEB\\.venv\\Lib\\site-packages\\keras\\src\\layers\\core\\dense.py:87: UserWarning: Do not pass an `input_shape`/`input_dim` argument to a layer. When using Sequential models, prefer using an `Input(shape)` object as the first layer in the model instead.\n",
      "  super().__init__(activity_regularizer=activity_regularizer, **kwargs)\n"
     ]
    }
   ],
   "source": [
    "# เพิ่ม Hidden layers\n",
    "model.add(Dense(128, activation='relu', input_dim=X_train.shape[1]))  # ขนาดของ input_dim ขึ้นอยู่กับจำนวนฟีเจอร์\n",
    "model.add(Dense(64, activation='relu'))\n",
    "model.add(Dense(32, activation='relu'))\n",
    "model.add(Dense(16, activation='relu'))\n",
    "model.add(Dense(8, activation='relu'))\n",
    "\n"
   ]
  },
  {
   "cell_type": "code",
   "execution_count": 12,
   "metadata": {},
   "outputs": [],
   "source": [
    "# เพิ่ม Output layer (ค่าผลลัพธ์เป็นตัวเลขเดียว)\n",
    "model.add(Dense(1,activation=\"sigmoid\"))  # สำหรับ regression ให้ใช้จำนวน output = 1\n"
   ]
  },
  {
   "cell_type": "code",
   "execution_count": 13,
   "metadata": {},
   "outputs": [],
   "source": [
    "# คอมไพล์โมเดล\n",
    "model.compile(optimizer=Adam(), loss='mean_squared_error')"
   ]
  },
  {
   "cell_type": "code",
   "execution_count": 14,
   "metadata": {},
   "outputs": [
    {
     "name": "stdout",
     "output_type": "stream",
     "text": [
      "Epoch 1/25\n",
      "\u001b[1m34/34\u001b[0m \u001b[32m━━━━━━━━━━━━━━━━━━━━\u001b[0m\u001b[37m\u001b[0m \u001b[1m1s\u001b[0m 6ms/step - loss: 0.2367 - val_loss: 0.1614\n",
      "Epoch 2/25\n",
      "\u001b[1m34/34\u001b[0m \u001b[32m━━━━━━━━━━━━━━━━━━━━\u001b[0m\u001b[37m\u001b[0m \u001b[1m0s\u001b[0m 3ms/step - loss: 0.1218 - val_loss: 0.0658\n",
      "Epoch 3/25\n",
      "\u001b[1m34/34\u001b[0m \u001b[32m━━━━━━━━━━━━━━━━━━━━\u001b[0m\u001b[37m\u001b[0m \u001b[1m0s\u001b[0m 3ms/step - loss: 0.0534 - val_loss: 0.0474\n",
      "Epoch 4/25\n",
      "\u001b[1m34/34\u001b[0m \u001b[32m━━━━━━━━━━━━━━━━━━━━\u001b[0m\u001b[37m\u001b[0m \u001b[1m0s\u001b[0m 3ms/step - loss: 0.0427 - val_loss: 0.0426\n",
      "Epoch 5/25\n",
      "\u001b[1m34/34\u001b[0m \u001b[32m━━━━━━━━━━━━━━━━━━━━\u001b[0m\u001b[37m\u001b[0m \u001b[1m0s\u001b[0m 3ms/step - loss: 0.0342 - val_loss: 0.0492\n",
      "Epoch 6/25\n",
      "\u001b[1m34/34\u001b[0m \u001b[32m━━━━━━━━━━━━━━━━━━━━\u001b[0m\u001b[37m\u001b[0m \u001b[1m0s\u001b[0m 3ms/step - loss: 0.0289 - val_loss: 0.0387\n",
      "Epoch 7/25\n",
      "\u001b[1m34/34\u001b[0m \u001b[32m━━━━━━━━━━━━━━━━━━━━\u001b[0m\u001b[37m\u001b[0m \u001b[1m0s\u001b[0m 3ms/step - loss: 0.0268 - val_loss: 0.0428\n",
      "Epoch 8/25\n",
      "\u001b[1m34/34\u001b[0m \u001b[32m━━━━━━━━━━━━━━━━━━━━\u001b[0m\u001b[37m\u001b[0m \u001b[1m0s\u001b[0m 3ms/step - loss: 0.0319 - val_loss: 0.0367\n",
      "Epoch 9/25\n",
      "\u001b[1m34/34\u001b[0m \u001b[32m━━━━━━━━━━━━━━━━━━━━\u001b[0m\u001b[37m\u001b[0m \u001b[1m0s\u001b[0m 3ms/step - loss: 0.0252 - val_loss: 0.0335\n",
      "Epoch 10/25\n",
      "\u001b[1m34/34\u001b[0m \u001b[32m━━━━━━━━━━━━━━━━━━━━\u001b[0m\u001b[37m\u001b[0m \u001b[1m0s\u001b[0m 3ms/step - loss: 0.0193 - val_loss: 0.0305\n",
      "Epoch 11/25\n",
      "\u001b[1m34/34\u001b[0m \u001b[32m━━━━━━━━━━━━━━━━━━━━\u001b[0m\u001b[37m\u001b[0m \u001b[1m0s\u001b[0m 3ms/step - loss: 0.0348 - val_loss: 0.0413\n",
      "Epoch 12/25\n",
      "\u001b[1m34/34\u001b[0m \u001b[32m━━━━━━━━━━━━━━━━━━━━\u001b[0m\u001b[37m\u001b[0m \u001b[1m0s\u001b[0m 3ms/step - loss: 0.0225 - val_loss: 0.0306\n",
      "Epoch 13/25\n",
      "\u001b[1m34/34\u001b[0m \u001b[32m━━━━━━━━━━━━━━━━━━━━\u001b[0m\u001b[37m\u001b[0m \u001b[1m0s\u001b[0m 3ms/step - loss: 0.0207 - val_loss: 0.0333\n",
      "Epoch 14/25\n",
      "\u001b[1m34/34\u001b[0m \u001b[32m━━━━━━━━━━━━━━━━━━━━\u001b[0m\u001b[37m\u001b[0m \u001b[1m0s\u001b[0m 3ms/step - loss: 0.0163 - val_loss: 0.0319\n",
      "Epoch 15/25\n",
      "\u001b[1m34/34\u001b[0m \u001b[32m━━━━━━━━━━━━━━━━━━━━\u001b[0m\u001b[37m\u001b[0m \u001b[1m0s\u001b[0m 4ms/step - loss: 0.0111 - val_loss: 0.0379\n",
      "Epoch 16/25\n",
      "\u001b[1m34/34\u001b[0m \u001b[32m━━━━━━━━━━━━━━━━━━━━\u001b[0m\u001b[37m\u001b[0m \u001b[1m0s\u001b[0m 3ms/step - loss: 0.0084 - val_loss: 0.0284\n",
      "Epoch 17/25\n",
      "\u001b[1m34/34\u001b[0m \u001b[32m━━━━━━━━━━━━━━━━━━━━\u001b[0m\u001b[37m\u001b[0m \u001b[1m0s\u001b[0m 3ms/step - loss: 0.0111 - val_loss: 0.0273\n",
      "Epoch 18/25\n",
      "\u001b[1m34/34\u001b[0m \u001b[32m━━━━━━━━━━━━━━━━━━━━\u001b[0m\u001b[37m\u001b[0m \u001b[1m0s\u001b[0m 3ms/step - loss: 0.0121 - val_loss: 0.0330\n",
      "Epoch 19/25\n",
      "\u001b[1m34/34\u001b[0m \u001b[32m━━━━━━━━━━━━━━━━━━━━\u001b[0m\u001b[37m\u001b[0m \u001b[1m0s\u001b[0m 3ms/step - loss: 0.0095 - val_loss: 0.0337\n",
      "Epoch 20/25\n",
      "\u001b[1m34/34\u001b[0m \u001b[32m━━━━━━━━━━━━━━━━━━━━\u001b[0m\u001b[37m\u001b[0m \u001b[1m0s\u001b[0m 3ms/step - loss: 0.0063 - val_loss: 0.0286\n",
      "Epoch 21/25\n",
      "\u001b[1m34/34\u001b[0m \u001b[32m━━━━━━━━━━━━━━━━━━━━\u001b[0m\u001b[37m\u001b[0m \u001b[1m0s\u001b[0m 3ms/step - loss: 0.0058 - val_loss: 0.0373\n",
      "Epoch 22/25\n",
      "\u001b[1m34/34\u001b[0m \u001b[32m━━━━━━━━━━━━━━━━━━━━\u001b[0m\u001b[37m\u001b[0m \u001b[1m0s\u001b[0m 3ms/step - loss: 0.0037 - val_loss: 0.0347\n",
      "Epoch 23/25\n",
      "\u001b[1m34/34\u001b[0m \u001b[32m━━━━━━━━━━━━━━━━━━━━\u001b[0m\u001b[37m\u001b[0m \u001b[1m0s\u001b[0m 3ms/step - loss: 0.0029 - val_loss: 0.0372\n",
      "Epoch 24/25\n",
      "\u001b[1m34/34\u001b[0m \u001b[32m━━━━━━━━━━━━━━━━━━━━\u001b[0m\u001b[37m\u001b[0m \u001b[1m0s\u001b[0m 3ms/step - loss: 0.0057 - val_loss: 0.0424\n",
      "Epoch 25/25\n",
      "\u001b[1m34/34\u001b[0m \u001b[32m━━━━━━━━━━━━━━━━━━━━\u001b[0m\u001b[37m\u001b[0m \u001b[1m0s\u001b[0m 3ms/step - loss: 0.0034 - val_loss: 0.0390\n"
     ]
    }
   ],
   "source": [
    "# ฝึกโมเดล\n",
    "history = model.fit(X_train, y_train, epochs=25, batch_size=16, validation_data=(X_test, y_test))"
   ]
  },
  {
   "cell_type": "code",
   "execution_count": 15,
   "metadata": {},
   "outputs": [
    {
     "name": "stdout",
     "output_type": "stream",
     "text": [
      "\u001b[1m5/5\u001b[0m \u001b[32m━━━━━━━━━━━━━━━━━━━━\u001b[0m\u001b[37m\u001b[0m \u001b[1m0s\u001b[0m 13ms/step\n"
     ]
    }
   ],
   "source": [
    "# ทำนายผล\n",
    "y_pred_prob = model.predict(X_test)\n",
    "y_pred = (y_pred_prob > 0.5).astype(int)"
   ]
  },
  {
   "cell_type": "code",
   "execution_count": 16,
   "metadata": {},
   "outputs": [
    {
     "name": "stdout",
     "output_type": "stream",
     "text": [
      "Accuracy: 94.03%\n",
      "Error Rate: 5.97%\n"
     ]
    }
   ],
   "source": [
    "# คำนวณ Accuracy\n",
    "accuracy = accuracy_score(y_test, y_pred)\n",
    "error_rate = 1 - accuracy\n",
    "\n",
    "# แสดงผลเป็นเปอร์เซ็นต์\n",
    "print(f\"Accuracy: {accuracy * 100:.2f}%\")\n",
    "print(f\"Error Rate: {error_rate * 100:.2f}%\")"
   ]
  },
  {
   "cell_type": "code",
   "execution_count": 19,
   "metadata": {},
   "outputs": [],
   "source": [
    "model.save(\"modelMLP.keras\")"
   ]
  },
  {
   "cell_type": "code",
   "execution_count": null,
   "metadata": {},
   "outputs": [],
   "source": [
    "with open(\"scalerMLP.pkl\", \"wb\") as file:\n",
    "    pickle.dump(scaler, file)"
   ]
  },
  {
   "cell_type": "code",
   "execution_count": null,
   "metadata": {},
   "outputs": [],
   "source": [
    "with open(\"X_trainMLP.pkl\", \"wb\") as file:\n",
    "    X_train = pickle.dump(X_train,file)\n",
    "with open(\"y_trainMLP.pkl\", \"wb\") as file:\n",
    "    y_train = pickle.dump(y_train,file)"
   ]
  }
 ],
 "metadata": {
  "kernelspec": {
   "display_name": ".venv",
   "language": "python",
   "name": "python3"
  },
  "language_info": {
   "codemirror_mode": {
    "name": "ipython",
    "version": 3
   },
   "file_extension": ".py",
   "mimetype": "text/x-python",
   "name": "python",
   "nbconvert_exporter": "python",
   "pygments_lexer": "ipython3",
   "version": "3.11.9"
  }
 },
 "nbformat": 4,
 "nbformat_minor": 2
}
